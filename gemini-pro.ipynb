{
 "cells": [
  {
   "cell_type": "code",
   "execution_count": 13,
   "metadata": {},
   "outputs": [],
   "source": [
    "## Langchain imports\n",
    "import langchain\n",
    "from langchain.document_loaders import PyPDFDirectoryLoader\n",
    "from langchain.text_splitter import RecursiveCharacterTextSplitter\n",
    "from langchain.chains.question_answering import load_qa_chain\n",
    "\n",
    "## Pinecone imports\n",
    "import pinecone\n",
    "from langchain_pinecone import PineconeVectorStore\n",
    "\n",
    "## OpenAI imports \n",
    "import openai\n",
    "from langchain.embeddings.openai import OpenAIEmbeddings\n",
    "from langchain.llms import OpenAI\n",
    "from langchain import OpenAI\n",
    "\n",
    "## Gemini pro imports\n",
    "\n",
    "import os"
   ]
  },
  {
   "cell_type": "code",
   "execution_count": 2,
   "metadata": {},
   "outputs": [
    {
     "data": {
      "text/plain": [
       "True"
      ]
     },
     "execution_count": 2,
     "metadata": {},
     "output_type": "execute_result"
    }
   ],
   "source": [
    "from dotenv import load_dotenv\n",
    "load_dotenv()"
   ]
  },
  {
   "cell_type": "code",
   "execution_count": 4,
   "metadata": {},
   "outputs": [],
   "source": [
    "def read_doc(directory):\n",
    "    file_loader = PyPDFDirectoryLoader(directory)\n",
    "    documents = file_loader.load()\n",
    "    return documents"
   ]
  },
  {
   "cell_type": "code",
   "execution_count": 5,
   "metadata": {},
   "outputs": [
    {
     "data": {
      "text/plain": [
       "[Document(page_content='March 13, 2024\\nDear Stripe community:\\nCharlie Munger described a two-part rule that works wonders in business, science, and elsewhere:  \\n1) take a simple idea and 2) take it very seriously.\\nStripe’s mission is to grow the GDP of the internet. The core idea behind the company—one we endeavor \\nto take very seriously—is that we’re still early in the journey of software-driven innovation , and Stripe is an \\napplied exercise in thinking through some of the corollaries of that. In particular, thanks to the new possi -\\nbilities afforded by the internet, we believe that putting better—more global, easier to use, more flexible, \\nfaster, cheaper—economic infrastructure in the hands of companies and entrepreneurs will lead to a more \\nvibrant and prosperous world. Remarkably, this journey was still in its infancy when Stripe launched in 2011. \\nThirteen years, and more than a doubling in internet users later, it’s still early. The world of 2034 is going to \\nlook very different.\\nWhat’s happening at Stripe?\\nCollectively, the businesses running on Stripe passed the milestone of $1 trillion in total payment volume \\nin 2023, up 25% from the prior year. (US e-commerce, an imperfect but useful comparison, grew 7.6% \\xa0last \\nyear.) At $1 trillion, the output of businesses that run on Stripe sums to roughly 1% of global GDP. (Most \\nStripe users sell so-called “final” goods, which are those that count toward GDP.)\\nStripe was robustly cash flow positive in 2023 and expects to be again in 2024. This threshold is important, \\nbecause it allows us to invest for the long term, building what we believe our users need 10 years from now, \\nwithout regard for the natural volatility of capital markets. In addition, Stripe customers can be confident \\nthat we provide stable, long-term infrastructure with a durably sustainable business model.\\nBusinesses make more money on Stripe\\nOnline payments is, among other things, a conversion optimization \\xa0problem.\\nThis is very different from in-person payments. Imagine you go eat out at a restaurant: you first \\xa0consume \\nthe service, and afterwards you’ll figure out payment no matter how hard or easy. Even the most laborious \\npayment experience is easier than washing dishes for the rest of the night, or being pursued by a spatula-  \\nbrandishing waiter.\\nOnline, things are different. People increasingly flit around the web in the fissures between other tasks, \\nand they very rarely have \\xa0to complete a purchase. In the face of hurdles—extraneous form fields, laby -\\nrinthine authentication processes, broken mobile flows—your competitors or just funny TikT ok reels are \\nboth a mere swipe away. According to the Baymard Institute , around 70% of online shopping carts are ', metadata={'source': 'documents\\\\Stripe_2023_annual_letter.pdf', 'page': 0}),\n",
       " Document(page_content='abandoned. While that assuredly involves cases where there was never actually an intent to purchase, it’s \\nclear that there’s significant deadweight loss.\\nWe obsess over eliminating barriers to internet purchases. Our optimized checkout suite \\xa0now includes \\nover 100 optimizations, from the very large to the very small. Even the smallest tweak to fine-tune the \\ncheckout experience benefits from Stripe’s economies of scale, since we can amortize the fixed costs of \\ncomplex improvements across more than a trillion dollars of transactions.\\nHere are a few recent examples:\\n• Our pre-built payment surfaces (Stripe Payment Links, Stripe Checkout) and flexible UI components \\n(Stripe Elements) offer easy and fast ways to set up high-converting flows. They present a checkout \\npersonalized to the buyer based on their device type, location, language, the nature of goods being \\nsold, and many more factors. All of Stripe’s pre-built UIs include mobile-friendly navigation, autofill, \\ninput masking, and mobile SDK support, as well as support for 42 languages, 236 regional address \\nformats, dynamic postal code collection, and localized error messages. These together yield measur -\\nable gains even for purchases where one might expect a highly motivated buyer. Slack, for example, \\nsaw a conversion uplift of more than 3% just by upgrading to these optimized UIs.\\n• The online payment landscape is fragmenting, with new payment methods proliferating around the \\nworld (including the US). Over the last year alone, we’ve added support for more than 50 new payment \\nmethods, taking the total supported to over 100. Most recently, we added support for Swish, the \\nSwedish payment method used by 8 million consumers. For the first time, companies can now charge \\nSwedish consumers with their preferred way to pay without a Swedish subsidiary or bank account.  \\nIn the US we added support for Block’s Cash App Pay, helping our customers access a younger  \\naudience—more than two-thirds \\xa0of Cash App Pay’s active accounts are Millennial or Gen Z.\\n• Payment Links \\xa0are the fastest way to start accepting payments on Stripe with zero code and no \\nwebsite required, and they’re popular among startups and large companies alike. This year, we shaved \\n300ms off the Payment Links render time, a change that brings even higher conversion.\\n• Even after the customer hits “buy”, optimizations are possible. New issuers continue to join our \\nEnhanced Issuer Network , where direct integrations with issuing banks enable us to do things like \\ntransmit out-of-band fraud scores as part of transaction requests, which reduce the odds of an errant \\ndecline by the cardholder’s bank.\\nA few months ago, 100-year-old T okyu Corporation \\xa0launched T sugiT sugi, a flat-rate accommodation \\nservice to help fill vacancies at hotels and resorts during off-peak periods. The service initially struggled \\nto add new payment plans, manage promotions, and handle recurring fees. T okyu turned to Stripe, and, \\nin two months, implemented Stripe Checkout , Stripe Billing , and Stripe Radar . The net result was a 20% \\nincrease in conversion.\\nThis story isn’t exceptional. Countless businesses can, and do, see similar gains. Stripe uses its $1 trillion \\ntransaction scale to invest in many optimizations that increase revenue for the entire customer base. \\n(Take a simple idea, and take it very seriously…)', metadata={'source': 'documents\\\\Stripe_2023_annual_letter.pdf', 'page': 1}),\n",
       " Document(page_content='Not just payments, but revenue and finance automation\\nWhile global money movement is no simple thing, overseeing how \\xa0much \\xa0to charge whom , and when , can \\nbe equally intricate, and we’re increasingly helping businesses orchestrate their overall financial logic. We \\nfirst entered this space with Billing, which grew over time into our Revenue and Finance Automation (RFA) \\nsuite, bringing together Billing, Tax, Revenue Recognition, and more.\\nT o give an example, say you want to charge $50 per month for some product. For the sake of familiarity, \\nlet’s imagine a cell phone provider looking to bill for a monthly plan, though the example will work for \\nmany business models.\\n• Very few businesses have single pricing plans, so you will probably need a product catalog to keep \\ntrack of the $50/month individual plan, the $200/month business plan, and so forth. Plans should \\ncost sensible amounts in each country—that is, the $200 plan in the US should probably cost €180 \\nin Ireland, and not €183.57. (Which then raises the question: how frequently will you realign prices as \\ncurrency rates move?) Complicating matters, many jurisdictions require VAT or other sales taxes to be \\nincluded in the purchase price.\\n• Many subscription businesses start with a flat monthly charge but also bill based on usage: interna -\\ntional calls might be $2/minute, international roaming $10/day, or extra lines $10/month. This then \\nmeans that you need a database that tracks usage events and turns them into a comprehensible bill.\\n• Customers don’t wait for the first of the month to begin and end plans, so you’ll probably need to \\nmanage prorating. (And you’ll have edge-cases like customers who switch from monthly to annual \\nbilling, and so on.)\\n• You’ll almost certainly seek to test and eventually deploy new pricing models as your product evolves. \\nFor tests, the system needs to enable different customers to receive different pricing for the same \\nservice. Furthermore, when you do roll out a broad change, you likely won’t just want to change all \\ncustomers overnight—you’ll grandfather many customers into their old pricing. Your billing system will \\ntherefore likely need to track the entire history of your pricing matrix, running many different versions \\nof your pricing scheme at once.\\n• You’ll have to build a system for handling failed payments, striking a balance between not letting \\nnon-paying customers get off scot-free with not damaging hard-won customer relationships whose \\npayment details occasionally lapse.\\n• Your customer service team will need to be able to view, explain, and modify almost every aspect of a \\ncustomer’s billing state.\\n• Customers in each country will want to pay with their preferred payment methods. Some are “push” \\npayment methods (like sending a bank transfer); some are “pull” (like pulling money from a credit card). \\nOnly some of them support recurring payments. The set of payment methods is ever-expanding: Pix \\ndidn’t exist five years ago and is now the most popular payment method in Brazil.', metadata={'source': 'documents\\\\Stripe_2023_annual_letter.pdf', 'page': 2}),\n",
       " Document(page_content='You can see why a seemingly simple proposition—“charge $50/month”—quickly gets complicated for any \\nbusiness operating in the real world.\\nWe frequently hear from both CEOs of large, public companies and fast-growing startups alike that their \\nbilling systems are stymying their plans . For example, in a recent conversation, a finance leader at one \\nof the tech giants admitted that they, one of the world’s most technically sophisticated companies, were \\nslowing the international rollout of their cloud offering because they couldn’t bill for it in new countries. \\nThink about that for a moment: the bleeding-edge cloud offering was a tractable problem… but the \\npayment collection wasn’t.\\nWhile conversations like these initially surprised us, we have gradually come to realize that the reason all \\nof this is hard is because what seems like a mere finance challenge is actually a much broader systems \\nproblem—one that touches most facets of your product, business model, and core processes. If you build \\nyour billing infrastructure the right way, you can achieve the triple benefits of reducing your operating \\ncosts, growing revenue faster, and providing a better customer experience. And if not, well, you end up \\nforlornly restricting your market coverage.\\nOur RFA products are grounded in billing systems, but have since grown to help automate much of the \\nrevenue pipeline. In just the past year, we added multiprocessor support for \\xa0taxes \\xa0(handling sales tax \\neven for payments outside of Stripe), launched no-code revenue recovery automations \\xa0to reduce churn, \\nand added subscription schedules \\xa0to automate changes to subscriptions over time. All of these were top \\nrequests from our users, who collectively operate at enormous scale.\\nBusinesses using Stripe for their revenue automation include Roblox, Figma, OpenAI, Atlassian, and \\nNasdaq. Overall, these products are being used by hundreds of thousands of businesses, and we expect \\nthe suite’s annual revenue run rate to pass $500 million over the next year.\\nEnterprise transformation\\nThe average tenure of a company’s inclusion in the S&P 500 index has been shrinking \\xa0over the past few \\ndecades: it was 61 years in 1958 and now sits at 18 years. This provides some empirical foundation for the \\nbasic intuition held by the CEOs of most large companies: reinvention is required.\\nOur enterprise segment continues to grow rapidly, with more than 100 companies now processing more \\nthan $1 billion per year with Stripe. Across these companies, we see an interesting set of patterns:\\n• Many firms are seeking to build a closer relationship with their customers and rethinking the role of \\nintermediaries. For example, Zara saw its fast fashion garments being sold on pre-owned clothing \\nwebsites, and decided to directly enable this with Zara Pre-Owned , which uses Stripe Connect to \\ndirectly facilitate payments between buyers and sellers. In a similar vein, Ford chose Stripe to stream -\\nline after-market service, enabling them to transact directly with customers, and enabling payments \\nto be seamlessly routed to the appropriate local dealers. Going a step further, Lotus \\xa0partnered with \\nStripe as part of a strategic shift, enabling a direct-to-consumer sales model across Europe. By dealing \\ndirectly with the customer, Lotus now owns the complete cycle, from order to delivery.', metadata={'source': 'documents\\\\Stripe_2023_annual_letter.pdf', 'page': 3}),\n",
       " Document(page_content='• Large companies are often weighed down by legacy tech stacks. These platforms are typically the \\nresult of many years of successful expansion, and hence shouldn’t be condemned, but calcified tech -\\nnology arteries are a major long-term health risk. We see many businesses tackling these challenges \\nhead-on—and reaping the ensuing benefits. For example, Hertz chose \\xa0Stripe to unify its in-person \\nand online payments, including its sub-brands like Dollar and Thrifty, in order to improve its customer \\nexperience. URBN operates a set of global consumer brands including Urban Outfitters, Anthropologie, \\nT errain, and Free People. Across all its retail brands, URBN will use Stripe to streamline purchases at \\n600+ brick and mortar stores, accept bank payments, facilitate sales for curated third-party  \\nmerchants, and more.\\n• New payment modalities are creating new opportunities. For example, Eventbrite and Alaska Airlines \\xa0 \\nchose Stripe to implement Tap to Pay on iPhone. Eventbrite hosts typically don’t own point-of-sale \\nhardware; thanks to our partnership with Eventbrite, an iPhone is all they need to establish a ticket \\noffice. T o give consumers more flexibility and reduce costs, Airbnb \\xa0and Uber \\xa0chose Stripe to help \\nguests and riders pay with their linked bank accounts.\\n• Meanwhile, media companies that have offered subscriptions for years are using Stripe to improve \\ntheir customer experience. FOX Sports \\xa0chose Billing for subscriptions in its new app; they saw invol -\\nuntary churn drop while user retention rose by 54% in less than a year. Forbes recently started working \\nwith Stripe to grow its newsletter subscriptions with Billing. And Nikkei \\xa0uses Billing for Nikkei ID, its \\ndigital platform.\\nStartup formation continues despite shrinking VC dollars\\nAlthough VC funding in 2023 hit its lowest levels since 2018, we’ve actually seen record startup  \\nformation across Stripe. (Besides the US, the biggest increases have come from the Netherlands, Sweden, \\nand Canada.)\\n$800B\\n$600B\\n$400B\\n$200B\\n$0200K\\n150K\\n100K\\n50K\\n0\\n2019 2020 2021 2022 2023\\nVC funding\\nStartups going \\nlive on Stripe\\nSource: Crunchbase (2024),\\nStripe data (March 2024)\\n', metadata={'source': 'documents\\\\Stripe_2023_annual_letter.pdf', 'page': 4}),\n",
       " Document(page_content='Perhaps as a result of the tighter funding environment, entrepreneurs are focusing on monetizing faster \\nand enabling profitable growth as soon as possible. Startups founded in 2022, the most recent year where \\nwe have a full year of analyzable data, are 60% more likely to start collecting revenue within their first year, \\nand 57% more likely to process $1 million within their first year, than those founded in 2019.\\nCheckout and Payment Links are the most common products used by startups on Stripe, since they \\ncombine power with simplicity. This year, we’ve made Checkout and Payment Links more customizable, \\nwith custom fields \\xa0to collect tailored information like delivery instructions or order numbers, support for \\nno-cost orders , new buy buttons , limits for subscriptions \\xa0to avoid duplicative subscriptions, and payment \\nlink limits , such that a payment link expires after a specific number of payments. With Embedded Check -\\nout, we’ve also found a way to implement a very long-time feature request: you can now place Checkout \\ndirectly on your site, without a redirect.\\nT oday, one in six new Delaware corporations incorporates with Stripe Atlas , and, to date, the 50,000+ \\ncompanies that have started with Atlas are on pace to collectively earn $5 billion a year in revenue. We \\ncontinue to make Atlas the simplest way to start a startup, now filing your 83(b) \\xa0election for you—a critical \\ntax step once easily missed by founders. We’re also seeing more cross-border founding teams in the \\nbusinesses being built with Atlas: this year, a record 21% of new companies with multiple founders have \\nfounders residing in different countries. For example, the founders of Dust Moto , an electric dirt bike \\ncompany, reside in Bend, OR, and London, UK. They are set to release its first bike, the Model_1, in the \\nsummer of 2025.\\nIn 2023, the influx of AI companies onto Stripe grew even larger. Twice as many AI companies went live \\non Stripe compared to 2022, including new trailblazers like Perplexity \\xa0and Mistral . They join leaders like \\nOpenAI, Anthropic, and Midjourney, which continue to expand their offerings and launch new products \\nwith Stripe. Aggregate revenue from AI companies grew by 249% in 2023, and, of course, AI was a major \\ntailwind for countless companies across Stripe that do not self-identify as “AI companies” per se.\\nWhile headlines inevitably index on the most legible figures, such as declining venture dollars, our net \\nassessment is that the startup ecosystem is more vibrant than ever before.\\nHow we engineer for reliability\\nReliability in the payments industry has historically been a somewhat sorry state of affairs:\\n• Payment companies did not adopt the leading high-availability practices of technology companies. \\nPayments APIs were flaky and had lots of scheduled (and unscheduled) downtime.\\n• Payment companies often made breaking non-backwards compatible API changes with scant warning, \\ncausing confusion and downtime for their customers.\\n• Businesses were forced to integrate multiple payment providers to achieve acceptable reliability.\\nOur view is that Stripe should be the most reliable part of a business’s stack. During Black Friday / Cyber \\nMonday 2023 (BFCM), the highest-load part of any year, Stripe maintained uptime in excess of 99.999% ', metadata={'source': 'documents\\\\Stripe_2023_annual_letter.pdf', 'page': 5}),\n",
       " Document(page_content='while processing more than 300 million transactions. T otal BFCM volume was $18.6 billion—our largest \\nfour-day period to date—and more than 31,000 businesses had their best day ever on Stripe.\\nT eams at Stripe work tirelessly to deliver this industry-leading reliability, and we decided we should share \\na little about how they accomplish it. Since many outages at internet companies are in some way triggered \\nby a change gone wrong, we can do so by walking through how new code gets deployed at Stripe—  \\nsomething that happens to one of our core API services approximately 400 times in a typical day.\\nOnce a change is code-complete, it is evaluated by a battery of around 1.4 million tests. Stripe uses \\nhalf a million CPU cores to execute more than 6 billion test runs each day. T ests ramp up in scope: from \\nsimple style checks, to unit tests that verify each component in isolation, to integration tests that verify \\nthat end-to-end systems work as expected. (These tests are often designed to exercise edge cases. \\nFor example, we ensure that all code works correctly at unusual times—on a leap day, or during a leap \\nsecond.) Needless to say, if the change fails any tests, further deployment halts.\\nOnce we’ve shown that a change works in theory, it’s time to ensure that it works in practice. Changes are \\nrolled out carefully and incrementally, like one of those progressive allergy tests that involves first rubbing \\nthe peanut on your skin, then touching it on the edge of your lip, and then just nibbling the peanut to see if \\nyou break out in hives at any point along the way.\\nChanges first go to pre-production, a mock production environment with synthetic API traffic designed \\nto mimic realistic integration patterns. Here we check that the change can not only be safely rolled out to \\nproduction, but also that it can be safely undone if required. Following this, the change then rolls out to a \\nsingle production machine with a small sliver of traffic, before gradually advancing to 0.5%, then 1%, then \\n5%, then 20%, and so on, of actual production traffic—with pauses along the way to observe the effects \\n(no swollen tongue!). We roll all changes out to test-mode API traffic before hitting live-mode traffic.\\nEach progressive rollout is inspected against 55,000 different metrics. If at any moment the system \\ndetects anomalous telemetry, the machines running the new code are automatically withdrawn from the \\npool and traffic is redirected to machines running an older, known-good version.\\nSo, that describes Stripe’s current approach to deploying changes, and why our reliability has historically \\nbeen best in class. But Stripe was only 99.999% available last year—what happens in the other 0.001% of \\ncases? When something does go wrong, either through the failure of systems outside of Stripe or because \\na problematic change slips through the net described above, we declare an incident.\\nThrough automated monitoring, we aim to detect as many incidents as possible, and our systems can \\nautomatically remediate many incidents by invoking redundant rails or enabling emergency fallback \\ncapabilities. Even with those automated systems in place, we inspect every incident manually, and have \\ndedicated operations staff on call 24×7. (On average, 520 calls per day go out to our staff.)\\nThe immediate fix is only the beginning of resolution—we scrutinize incidents and extract the systematic \\nchanges we should make. Defense in depth is the core principle of our high-availability work. T o illustrate, \\nlet’s look at the most significant recent issue which happened on February 8, 2024 between 21:46 and \\n21:52 UTC (as shown on status.stripe.com ). It affected a small subset of traffic—the three most impacted ', metadata={'source': 'documents\\\\Stripe_2023_annual_letter.pdf', 'page': 6}),\n",
       " Document(page_content='users had 39, 15, and 12 payments fail, respectively. Still, this was the biggest incident of 2024 so far and \\nwe take it very seriously.\\nIn this incident, an erroneous change rolled out all the way to 1% of the critical tier of traffic. As is common \\nfor incidents in highly redundant systems, multiple problems had to coincide for users to be impacted. We \\naddressed not just one but all of these problems, creating multiple defenses and giving us confidence to \\ncontinue innovating quickly for our users.\\nReliability is just one pillar of our platform fundamentals. We expend even more energy defending  \\nStripe against all sorts of malefactors, with similarly comprehensive mechanisms for detecting illicit \\nactivity across our platform, and for ensuring that our customers need to spend as little time as possible \\nworrying about them. T o avoid assisting attackers, however, we typically elect to say very little regarding \\nthe specifics.\\nNew progress in technology\\nAnton Howes argues \\xa0that an “improving mindset” kickstarted the Industrial Revolution. “It was not a \\nparticular skill or some special knowledge, but a frame of mind—a lens through which they perceived \\nthe status quo as being imperfect, and then sought to rectify those imperfections.” \\xa0He describes how \\nEdmund Cartwright, the Anglican cleric best known for inventing the power loom, was a Renaissance man \\nwho also developed agricultural machinery, fireproof building materials, and a horseless carriage, while \\nalso pursuing discovery in medicine. Various economic historians have shown that the degree to which \\nsocieties foster such a cultural orientation can play a big role in determining larger economic outcomes.\\nWe bring this up because one of the most gratifying aspects of building Stripe is witnessing the explosion \\nin entrepreneurship and innovation that has occurred over the past 15 years, reflecting greater global \\nadoption of this improving mindset.\\nWe used to wonder if the trends we were seeing merely reflected a composition effect, where new \\ncompanies are simply becoming more likely to use Stripe. There is certainly some of that, but we’re now \\nconvinced that there is also a broader boom in firm creation: everyone from Y Combinator to the Bureau of \\nLabor Statistics agrees.\\nBecause Stripe disproportionately works with businesses inventing new things, we thought we’d share a \\nfew sectors that caught our eye over the past year.\\nClean energy and carbon removal\\nBloombergNEF estimates that the world deployed 444 GW of solar energy last year, which is greater than \\nall the nuclear grid capacity in the world today. In the US, this translated to around half of all new capacity \\nadded to the grid coming from solar.\\nThere are two facts that in our opinion remain underappreciated. First, solar is increasingly the cheapest \\xa0 \\nenergy solution. We’re fans of the visualization below, showing the virtuous cycle between manufacturing ', metadata={'source': 'documents\\\\Stripe_2023_annual_letter.pdf', 'page': 7}),\n",
       " Document(page_content='scale and manufacturing costs: cheaper solar results in more demand and more manufacturing, which \\nfurther drives down costs, which results in even more manufacturing, and so on. This is known as the \\nlearning curve, and solar has been experiencing an exponential improvement. Small annual changes \\ncompound, and costs in both PV and batteries have fallen roughly tenfold in the past decade. Given that \\nsolar is already outcompeting many other energy sources, the prospect of another order of magnitude \\ncost improvement—and solar becoming difficult for other energy sources to compete with—will be \\nvery disruptive indeed. (T exas, not generally known for Prius-driving hippies, deployed more solar than \\nCalifornia last year.)\\nSecond, the battery learning curve is proving just as durable as the solar curve. While batteries can benefit \\nmany forms of electricity generation, they’re highly complementary to solar in particular, since they \\nalleviate its inherent intermittency, and thus further lower its effective cost.\\nBusinesses on Stripe are at the center of these changes in the energy sector. Barcelona-based  \\nSolarMente \\xa0allows households to adopt green technologies like solar panels, energy storage, and heat \\npumps with €0 upfront investment, making adoption an economic no-brainer. Utah-based Paleblue \\xa0has \\ninvented better rechargeable batteries so we can finally stop throwing away billions of disposable \\nbatteries each year.   Lithium demand is also growing with the increasing transition from gas-powered cars \\nto electric vehicles. Lilac Solutions \\xa0aims to access new lithium reserves by harvesting lithium from brine in \\nnatural deposits of salt water.\\nSo, one should feel very optimistic about our trajectory towards being able to generate abundant clean \\nenergy close to the source of consumption. The other side of the carbon equation is carbon removal, both \\nto offset those last tricky emitters like cement production, and to remove historic over-emissions. Luckily, \\nthere is progress to report there too.Source: Casey Handmer (2024)0.1110100\\n10 100 1,000 10,000 100,000 1,000,000\\nCumulative global PV production (MW)Solar PV cost ($/W)Learning rate 44%\\nLearning rate 27%1976\\n1980\\n199020002010\\n2020\\n2024\\n100100010,000\\n10 1 100 1,000 10,000 100,000 1,000,000 10,000,000\\nCumulative global Li-ion battery production (MWh)Li-ion battery cell cost ($/kWh)Learning rate 23%1992\\n2000\\n2010\\n2020\\n2024\\n', metadata={'source': 'documents\\\\Stripe_2023_annual_letter.pdf', 'page': 8}),\n",
       " Document(page_content='Importantly, carbon removal is not carbon offsets , where you pay someone to tell you that they would have \\notherwise emitted carbon but now won’t. Carbon removal means mechanically slurping carbon out of the \\natmosphere. It’s a nascent space: when we set out in 2020, we were the first-ever buyer for three of the \\nfour companies we purchased from. The positive feedback we got from these companies inspired us to \\nlaunch Stripe Climate , which is now used by tens of thousands of businesses to buy carbon removal. Since \\nthen we’ve joined forces with like-minded partners to found Frontier , a $1 billion advance market com -\\nmitment \\xa0(AMC) to show clear demand and accelerate the development of carbon removal technologies \\ndown the cost curve and up the volume curve. In part thanks to an order of magnitude more purchases \\nfrom private companies as well as the US government , carbon removal companies are progressing quickly. \\nAs just one example, in 2022 Frontier became the first customer of Lithos , buying 640 tons of carbon \\nremoval. Lithos harnesses the natural ability of rocks to absorb CO2\\xa0by spreading ultra-fine basalt on \\nfarmland. This year, as part of a\\xa0 $57 million \\xa0offtake from Frontier, Lithos is on track to deliver more than \\n25,000 tons—a 40× scale-up in just two years.\\nRobotics\\nThere is a sense of change \\xa0in the air in the world of robotics. Transformers and LLMs are allowing for better \\nagentic behavior, perception is finally good enough for many real world uses, and actuators and batteries \\nkeep improving.\\nScythe Robotics \\xa0has tackled the tedious task of mowing the \\nlawn with autonomous, electric lawn mowers. (And getting \\nrid of ghastly two-stroke lawnmower engines in the process! \\nDue to their worse combustion than a four-stroke car engine, \\na single hour of operating a gas-powered mower produces \\nthe same amount of smog-forming pollution \\xa0as driving a \\ngas-powered car 300 miles.) Matic \\xa0is delivering the first fully \\nautonomous robot vacuum that finally works (and can mop!). \\nIt uses better cameras and sensing to build a full 3D model of \\nthe home and not bump into everything in its path. Richtech \\nRobotics \\xa0built a squad of robots including a production arm, a \\nwaiter, a hotel delivery robot, and interactive robot bartenders, \\nbaristas, and chefs. Manna Aero \\xa0is finally making drone \\ndelivery happen, rappelling coffee and sandwiches from \\nautonomous drones to patrons in its two pilot sites in Dublin and T exas. Its drones can make 7–8 deliveries \\nper hour, fly at speeds of 50 mph, and cost one-tenth of what a human delivery would cost. Bright \\nMachines \\xa0has over 100 microfactories, made up of robotic cells strung together to create assembly lines. \\nThese microfactories manufacture and inspect a variety of goods, from electronics to home appliances, \\nand can significantly cut production costs. Dexterity \\xa0started in a Stanford lab, and quickly developed \\ninto a full-stack warehouse robotics company with deft robots, which can work alongside humans for \\ncompanies like FedEx to pick products, move pallets, pack boxes, and handle complex manipulations in \\nunpredictable environments.\\nRichtech Robotics ADAM', metadata={'source': 'documents\\\\Stripe_2023_annual_letter.pdf', 'page': 9}),\n",
       " Document(page_content='Farming\\nEveryone knows about the astonishing growth in agricultural productivity driven by twentieth-century \\nadvances like the Haber-Bosch process. But did you know that per-acre corn yields in the US have grown \\nby around 30% \\xa0since 2000? Improving mindset! There are still many opportunities for refinement in our \\nagricultural technologies. By marshaling data more effectively, these improvements often reduce costs \\nwhile also reducing fertilizer, pesticide, and water use.\\nFarmHQ \\xa0from the Skagit Valley in Washington state upgrades traditional irrigation systems with remote \\nmonitoring and control via a mobile app, giving farmers finer control over water movements. Under typical \\nirrigation conditions, FarmHQ saves 500,000 gallons of water and reduces farmers’ labor and input \\ncosts by $2,000–$5,000 per device annually. Aerobotics , based in South Africa and San Francisco, uses \\ndrones and AI to help farmers assess the health of trees and citrus fruit. And while agricultural production \\nwas historically limited by land as input, OnePointOne \\xa0is using aeroponic techniques that don’t need \\nland. (Aeroponics has the additional benefit of growing plants faster with less water and fertilizer.) They \\nrun a 12,000-square-foot vertical farm in Arizona that produces 250 times more plants per acre than a \\ntraditional farm.\\nThe abundance of beauty\\nWhat determines the extent to which the things we introduce into the world are beautiful? There are no \\nsimple answers, but human capital and simple cost are two major constraints. Talent networks explain \\nwhy bread in France is better than bread in Florida, and cost considerations explain why modern buildings \\nhave plain finishes rather than elaborate moldings.\\nRecent technical advances address both of these bottlenecks, and \\nmay make beauty more ubiquitous in both grand and prosaic ways. \\nThanks to Midjourney ’s beautiful AI images, every menu can feature \\ncustom illustrations (even if the food changes every day). Suno \\xa0provides \\nsurprisingly good AI-generated music—we see the possibility of infinite \\nintricately-tailored songs. Runway \\xa0not only lowers the barrier to entry for \\ncreators, but also increases their productive output—a video that would \\nhave taken five hours to capture and edit now only takes five minutes. \\nWith The New Black , you can create that custom azure sequin pants suit \\nyou’ve been thinking about. And Monumental Labs \\xa0is building AI-enabled \\nrobotic stone-carving factories to create highly ornamented classical \\nstructures on a mass scale. Perhaps we’ll eventually see the return of \\ncolumns, gargoyles, or even the emergence of a new type of elaborate \\narchitecture. Importantly, many of these businesses couldn’t exist without \\nthe scale afforded by the internet economy. Training these models is \\ntime-consuming and expensive, and it’s only with a vast customer base \\nthat it makes sense to invest the capital costs that ensure that marginal \\nuse can be close to free.\\n Monumental Labs', metadata={'source': 'documents\\\\Stripe_2023_annual_letter.pdf', 'page': 10}),\n",
       " Document(page_content='Join the conversation\\nThe improving mindset is a powerful thing. The internet economy is seeing tremendous progress thanks \\nto it, and we try to bring it to our small corner at Stripe to deliver better financial infrastructure through \\nmany small investments that compound over many years.\\nIf you share our interest in the possibilities of the internet, and technology-driven improvement more \\nbroadly, we would love to host you at Stripe Sessions, our in-person annual conference, on April 23–25, \\nat the Moscone Center in San Francisco. You’ll hear from businesses building on Stripe, and we’ll share \\nupdates on our own progress. You can register at sessions.stripe.com .\\nWe sadly lost Charlie Munger last November. Few better articulated a complete philosophy of business: \\nan interdisciplinary mindset, patience, due regard for incentives, relentless elevation of substance over \\nappearances, an uncompromising view of integrity, and, above all, mutually beneficial value creation as a \\nlodestone. We just republished Poor Charlie’s Almanack , both in print and, for free, online. We recommend \\nhis wisdom to everyone curious.\\nBest,  \\nPatrick and John', metadata={'source': 'documents\\\\Stripe_2023_annual_letter.pdf', 'page': 11})]"
      ]
     },
     "execution_count": 5,
     "metadata": {},
     "output_type": "execute_result"
    }
   ],
   "source": [
    "doc = read_doc('documents/')\n",
    "doc"
   ]
  },
  {
   "cell_type": "code",
   "execution_count": 6,
   "metadata": {},
   "outputs": [],
   "source": [
    "#Divide the docs into chunks\n",
    "def chunk_data(docs,chunk_size=800,chunk_overlap=50):\n",
    "    text_splitter = RecursiveCharacterTextSplitter(chunk_size=chunk_size, chunk_overlap=chunk_overlap)\n",
    "    doc = text_splitter.split_documents(docs)\n",
    "    return doc\n"
   ]
  },
  {
   "cell_type": "code",
   "execution_count": 7,
   "metadata": {},
   "outputs": [
    {
     "data": {
      "text/plain": [
       "51"
      ]
     },
     "execution_count": 7,
     "metadata": {},
     "output_type": "execute_result"
    }
   ],
   "source": [
    "documents = chunk_data(docs=doc) \n",
    "len(documents)"
   ]
  },
  {
   "cell_type": "code",
   "execution_count": 8,
   "metadata": {},
   "outputs": [
    {
     "name": "stderr",
     "output_type": "stream",
     "text": [
      "d:\\Curious\\General-Knowledge-based-app-langchain-pinecone\\venv\\lib\\site-packages\\langchain_core\\_api\\deprecation.py:117: LangChainDeprecationWarning: The class `langchain_community.embeddings.openai.OpenAIEmbeddings` was deprecated in langchain-community 0.0.9 and will be removed in 0.2.0. An updated version of the class exists in the langchain-openai package and should be used instead. To use it run `pip install -U langchain-openai` and import as `from langchain_openai import OpenAIEmbeddings`.\n",
      "  warn_deprecated(\n"
     ]
    }
   ],
   "source": [
    "# Embedding Technique of OPENAI\n",
    "embeddings = OpenAIEmbeddings(api_key=os.environ['OPENAI_API_KEY'])"
   ]
  },
  {
   "cell_type": "code",
   "execution_count": 9,
   "metadata": {},
   "outputs": [
    {
     "data": {
      "text/plain": [
       "1536"
      ]
     },
     "execution_count": 9,
     "metadata": {},
     "output_type": "execute_result"
    }
   ],
   "source": [
    "vectors = embeddings.embed_query(\"How are you?\")\n",
    "len(vectors)"
   ]
  },
  {
   "cell_type": "code",
   "execution_count": 10,
   "metadata": {},
   "outputs": [],
   "source": [
    "# Vector search DB in Pinecone\n",
    "index_name = \"langchain-vector\"\n",
    "index = PineconeVectorStore.from_documents(documents, embeddings, index_name=index_name)"
   ]
  },
  {
   "cell_type": "code",
   "execution_count": 12,
   "metadata": {},
   "outputs": [],
   "source": [
    "# Cosine similarity retreive the results from VectorDB\n",
    "def retrieve_query(query, k=2):\n",
    "    matching_results = index.similarity_search(query,k=k)\n",
    "    return matching_results"
   ]
  },
  {
   "cell_type": "code",
   "execution_count": 22,
   "metadata": {},
   "outputs": [],
   "source": [
    "llm = OpenAI(model_name='gpt-3.5-turbo-instruct', temperature=0.5)"
   ]
  },
  {
   "cell_type": "code",
   "execution_count": 23,
   "metadata": {},
   "outputs": [],
   "source": [
    "chain = load_qa_chain(llm, chain_type='stuff')"
   ]
  },
  {
   "cell_type": "code",
   "execution_count": 24,
   "metadata": {},
   "outputs": [],
   "source": [
    "# Search answers from VectorDB\n",
    "def retrieve_answers(query):\n",
    "    doc_search = retrieve_query(query)\n",
    "    print(doc_search)\n",
    "    response = chain.run(input_documents=doc_search,question=query)\n",
    "    return response\n"
   ]
  },
  {
   "cell_type": "code",
   "execution_count": 25,
   "metadata": {},
   "outputs": [
    {
     "name": "stdout",
     "output_type": "stream",
     "text": [
      "[Document(page_content='tailwind for countless companies across Stripe that do not self-identify as “AI companies” per se.\\nWhile headlines inevitably index on the most legible figures, such as declining venture dollars, our net \\nassessment is that the startup ecosystem is more vibrant than ever before.\\nHow we engineer for reliability\\nReliability in the payments industry has historically been a somewhat sorry state of affairs:\\n• Payment companies did not adopt the leading high-availability practices of technology companies. \\nPayments APIs were flaky and had lots of scheduled (and unscheduled) downtime.\\n• Payment companies often made breaking non-backwards compatible API changes with scant warning, \\ncausing confusion and downtime for their customers.', metadata={'page': 5.0, 'source': 'documents\\\\Stripe_2023_annual_letter.pdf'}), Document(page_content='vibrant and prosperous world. Remarkably, this journey was still in its infancy when Stripe launched in 2011. \\nThirteen years, and more than a doubling in internet users later, it’s still early. The world of 2034 is going to \\nlook very different.\\nWhat’s happening at Stripe?\\nCollectively, the businesses running on Stripe passed the milestone of $1 trillion in total payment volume \\nin 2023, up 25% from the prior year. (US e-commerce, an imperfect but useful comparison, grew 7.6% \\xa0last \\nyear.) At $1 trillion, the output of businesses that run on Stripe sums to roughly 1% of global GDP. (Most \\nStripe users sell so-called “final” goods, which are those that count toward GDP.)\\nStripe was robustly cash flow positive in 2023 and expects to be again in 2024. This threshold is important,', metadata={'page': 0.0, 'source': 'documents\\\\Stripe_2023_annual_letter.pdf'})]\n",
      " There is no mention of AI/Data specifically in the given context, so it is not possible to answer this question.\n"
     ]
    }
   ],
   "source": [
    "our_query = \"What is the advancement in terms of AI/Data that Stripe has done?\"\n",
    "answer = retrieve_answers(our_query)\n",
    "print(answer)"
   ]
  },
  {
   "cell_type": "code",
   "execution_count": null,
   "metadata": {},
   "outputs": [],
   "source": [
    "from langchain.vectorstores import faiss\n",
    "from langchain_google_genai import GoogleGenerativeAIEmbeddings\n",
    "import google.generativeai as genai\n",
    "from langchain.prompts import PromptTemplate"
   ]
  }
 ],
 "metadata": {
  "kernelspec": {
   "display_name": "venv",
   "language": "python",
   "name": "python3"
  },
  "language_info": {
   "codemirror_mode": {
    "name": "ipython",
    "version": 3
   },
   "file_extension": ".py",
   "mimetype": "text/x-python",
   "name": "python",
   "nbconvert_exporter": "python",
   "pygments_lexer": "ipython3",
   "version": "3.11.9"
  }
 },
 "nbformat": 4,
 "nbformat_minor": 2
}
